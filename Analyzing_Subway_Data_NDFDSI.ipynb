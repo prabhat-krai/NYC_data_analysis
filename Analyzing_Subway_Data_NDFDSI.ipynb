{
 "cells": [
  {
   "cell_type": "markdown",
   "metadata": {},
   "source": [
    "# Subway Data Analysis\n",
    "\n",
    "## Introduction\n",
    "\n",
    "The NYC public transportantion system - Metro Transit Authority - provides data for download via csv files. Part of the information available are data from the subway turnstiles, containing weekly logs for cumulative entries and exits by turnstile and by subway station during a provided timeframe.\n",
    "\n",
    "\n",
    "For this project, we will only use the information available at: http://web.mta.info/developers/turnstile.html.\n",
    "\n",
    "\n"
   ]
  },
  {
   "cell_type": "markdown",
   "metadata": {},
   "source": [
    "# About this project\n",
    "\n",
    "For this project, you will apply the knowledge acquired in the first month of this course. We will practice basic data acquisition and data cleaning tasks to find out fundamental stuff about the data using what we learned in the Statistics course. \n",
    "\n",
    "The goal of this project is to explore the relationship between data from the NYC Subway turnstiles and the city weather. For this, besides data from the subway, we will also need data from the weather in NYC. \n",
    "\n",
    "Here are the main points that will be considered in this work:\n",
    "\n",
    "- Gathering data from the Internet\n",
    "- Using Statistics for Data Analysis\n",
    "- Data handling and simple graphics creation with `Pandas`\n",
    "\n",
    "*How to find help*: We suggest that you try the following channels, in the following order:\n",
    "\n",
    "| Type of Question\\Channels    \t| Google \t| Forum \t| Slack \t| Email \t|\n",
    "|-------------------------------\t|--------\t|-------\t|-------\t|-------\t|\n",
    "| Pandas and Python Programming \t| 1      \t| 2     \t| 3     \t|       \t|\n",
    "| Projects Requiriments         \t|        \t| 1     \t| 2     \t| 3     \t|\n",
    "| Projects Specific Parts       \t|        \t| 1     \t| 2     \t| 3     \t|\n",
    "\n",
    "Here is the address for each of these channels:\n",
    "\n",
    "- Forum: https://discussions.udacity.com/c/ndfdsi-project\n",
    "- Slack: [Big Data Foundations](https://goo.gl/4K7LWK)\n",
    "- Email: india@udacity.com\n",
    "\n",
    "**The student is expected to submit this report including:**\n",
    "\n",
    "- All TODO's completed, as they are crucial for the code to run accordingly\n",
    "- The ipynb file, exported as html\n",
    "\n",
    "To submit this project, go to the [classroom](https://coco.udacity.com/nanodegrees/nd100-inbig/locale/en-us/versions/1.0.0/parts/469348/modules/469702/lessons/469703/project), and submit your zipped `.ipynb` and html."
   ]
  },
  {
   "cell_type": "markdown",
   "metadata": {},
   "source": [
    "# Reminders\n",
    "\n",
    "Before we start, there are a few things you must have in mind while using iPython notebooks:\n",
    "\n",
    "- Remember you can see, in the left side of a code cell, when was the last time it ran, if there is a number inside the keys.\n",
    "- When starting a new session in the notebook, please make sure to run all cells up to the point where you last left it. Even if the output can still be viewed from the moment you ran your cells in the previews session, the kernel starts in a new state, so you will need to reload all data, etc. in a new session.\n",
    "- The previous point is useful to have in mind if your answers do not match what is expected from the quizzes in the classroom. Try reloading the data and running all processing steps, one by one, to make sure you're working with the same variables and data from each step of the quizz."
   ]
  },
  {
   "cell_type": "markdown",
   "metadata": {},
   "source": [
    "## Session 1 - Data Gathering\n",
    "\n",
    "### *Exercise 1.1*\n",
    "\n",
    "Let's do it!! Now it's your turn to gather data. Please write bellow a Python code to access the link http://web.mta.info/developers/turnstile.html and download all files from June 2017. The file must be named turnstile_100617.txt, where 10/06/17 is the file's date.\n",
    "\n",
    "Please see below a few commands that might help you:\n",
    "\n",
    "Use the **urllib** library to open and redeem a webpage. Use the command below, where **url** is the webpage path to the following file:\n",
    "\n",
    "```python\n",
    "u = urllib.urlopen(url)\n",
    "html = u.read()\n",
    "```\n",
    "\n",
    "Use the **BeautifulSoup** library to search for the link to the file you want to donwload in the page. Use the command below to create your *soup* object and search for all 'a' tags in the document:\n",
    " \n",
    " \n",
    "```python\n",
    "soup = BeautifulSoup(html, \"html.parser\")\n",
    "links = soup.find_all('a')\n",
    "```\n",
    "\n",
    "A tip to only download the files from June is to check data in the name of the file. For instance, to donwload the 17/06/2017 file, please see if the link ends with *\"turnstile_170610.txt\"*. If you forget to do this, you will download all files from that page. In order to do this, you can use the following command:\n",
    "\n",
    "```python\n",
    "if '1706' in link.get('href'):\n",
    "```\n",
    "\n",
    "Our final tip is to use the command bellow to download the txt file:\n",
    "\n",
    "```python\n",
    "urllib.urlretrieve(link_do_arquivo, filename)\n",
    "```\n",
    "\n",
    "Please remember - you first have to load all packages and functions that will be used in your analysys."
   ]
  },
  {
   "cell_type": "code",
   "execution_count": 4,
   "metadata": {
    "scrolled": true
   },
   "outputs": [
    {
     "name": "stdout",
     "output_type": "stream",
     "text": [
      "http://web.mta.info/developers/data/nyct/turnstile/turnstile_170624.txt\n",
      "http://web.mta.info/developers/data/nyct/turnstile/turnstile_170617.txt\n",
      "http://web.mta.info/developers/data/nyct/turnstile/turnstile_170610.txt\n",
      "http://web.mta.info/developers/data/nyct/turnstile/turnstile_170603.txt\n",
      "['turnstile_240617.txt', 'turnstile_170617.txt', 'turnstile_100617.txt', 'turnstile_030617.txt']\n"
     ]
    }
   ],
   "source": [
    "import urllib\n",
    "import os\n",
    "from bs4 import BeautifulSoup\n",
    "url=\"http://web.mta.info/developers/turnstile.html\"\n",
    "u=urllib.request.urlopen(url)\n",
    "html=u.read()\n",
    "c=3\n",
    "filenames=[]\n",
    "dates=['03','10','17','24']\n",
    "soup=BeautifulSoup(html,\"html.parser\")\n",
    "for link in soup.findAll('a'):\n",
    "        linker=link.get('href')\n",
    "        if not linker:\n",
    "            continue\n",
    "        else:\n",
    "            if '1706' in linker:\n",
    "                linker=\"http://web.mta.info/developers/\"+linker  #formin the whole link to pass to urllib\n",
    "                print(linker)\n",
    "                filenames.append(\"turnstile_\"+dates[c]+\"0617.txt\") #giving each file a different name\n",
    "            \n",
    "                urllib.request.urlretrieve(linker,\"turnstile_\"+dates[c]+\"0617.txt\")\n",
    "                c-=1    \n",
    "print (filenames)    \n",
    "d=0\n",
    "\n",
    "#your code here\n",
    "#"
   ]
  },
  {
   "cell_type": "markdown",
   "metadata": {},
   "source": [
    "### *Exercise 1.2*\n",
    "\n",
    "Write down a function that takes the list of all names of the files you downloaded in Exercise 1.1 and compile them into one single file. There must be only one header line in the output file. \n",
    "\n",
    "For example, if file_1 has:\n",
    "line 1...\n",
    "line 2...\n",
    "\n",
    "and the other file, file_2, has:\n",
    "line 3...\n",
    "line 4...\n",
    "line 5...\n",
    "\n",
    "We must combine file_1 and file_2 into one master file, as follows:\n",
    "\n",
    "'C/A, UNIT, SCP, DATEn, TIMEn, DESCn, ENTRIESn, EXITSn'\n",
    "line 1...\n",
    "line 2...\n",
    "line 3...\n",
    "line 4...\n",
    "line 5...\n"
   ]
  },
  {
   "cell_type": "code",
   "execution_count": 5,
   "metadata": {},
   "outputs": [
    {
     "data": {
      "text/plain": [
       "'master.txt'"
      ]
     },
     "execution_count": 5,
     "metadata": {},
     "output_type": "execute_result"
    }
   ],
   "source": [
    "def create_master_turnstile_file(filenames, output_file):\n",
    "    \n",
    "    with open(output_file, 'w') as outfile:\n",
    "        outfile.write('C/A,UNIT,SCP,STATION, LINENAME, DIVISION, DATEn,TIMEn,DESCn,ENTRIESn,EXITSn\\n')\n",
    "        for filename in filenames:\n",
    "            with open(filename) as infile:\n",
    "                d=0\n",
    "                for line in infile:\n",
    "                    if (d>0):  #to skip the first line, so that the header is skipped\n",
    "                        outfile.write(line)\n",
    "                    d+=1\n",
    "    return output_file\n",
    "            # your code here\n",
    "create_master_turnstile_file(filenames,\"master.txt\")"
   ]
  },
  {
   "cell_type": "markdown",
   "metadata": {},
   "source": [
    "### *Exercise 1.3*\n",
    "\n",
    "For this exercise, you will write a function that reads the master_file created in the previous exercise and load it into a Pandas Dataframe. This function can be filtered, so that the Dataframe only has lines where column \"DESCn\" has the value \"Regular\".\n",
    "\n",
    "For example, if the Pandas Dataframe looks like this:\n",
    "    \n",
    "    ,C/A,UNIT,SCP,DATEn,TIMEn,DESCn,ENTRIESn,EXITSn\n",
    "    0,A002,R051,02-00-00,05-01-11,00:00:00,REGULAR,3144312,1088151\n",
    "    1,A002,R051,02-00-00,05-01-11,04:00:00,DOOR,3144335,1088159\n",
    "    2,A002,R051,02-00-00,05-01-11,08:00:00,REGULAR,3144353,1088177\n",
    "    3,A002,R051,02-00-00,05-01-11,12:00:00,DOOR,3144424,1088231\n",
    "\n",
    "The Dataframe must look like the following, after filtering only the lines where column DESCn has the value REGULAR:\n",
    "\n",
    "    0,A002,R051,02-00-00,05-01-11,00:00:00,REGULAR,3144312,1088151\n",
    "    2,A002,R051,02-00-00,05-01-11,08:00:00,REGULAR,3144353,1088177\n"
   ]
  },
  {
   "cell_type": "code",
   "execution_count": 6,
   "metadata": {
    "collapsed": true
   },
   "outputs": [],
   "source": [
    "import pandas as pd\n",
    "def filter_by_regular(filename): \n",
    "    turnstile_data = pd.read_csv(filename)\n",
    "    turnstile_data_regular = turnstile_data[turnstile_data['DESCn'] == \"REGULAR\"]\n",
    "    turnstile_data_regular.head() \n",
    "    return turnstile_data_regular\n",
    "\n",
    "df=filter_by_regular(\"master.txt\")"
   ]
  },
  {
   "cell_type": "markdown",
   "metadata": {},
   "source": [
    "### *Exercise 1.4*\n",
    "\n",
    "\n",
    "The NYC Subway data has cumulative entry and exit data in each line. Let's assume you have a Dataframe called df, which contains only lines for one particular turnstile (unique SCP, C/A, and UNIT). The following function must change these cumulative entries for counting all entries since the last reading (entries from the last line of the Dataframe).\n",
    "\n",
    "More specifically, there are two things you should do:\n",
    "\n",
    "1 - Create a new column, called ENTRIESn_hourly\n",
    "2 - Insert in this column the difference between ENTRIESn in the current and the previous column. If the line has any NAN, fill it out/replace by 1.\n",
    "\n",
    "Tip: The funtions shift() and fillna() in Pandas might be usefull for this exercise.\n",
    "\n",
    "Below you will find and example of how your Dataframe should look by the end of this exercise:\n",
    "\n",
    "        C/A  UNIT       SCP     DATEn     TIMEn    DESCn  ENTRIESn    EXITSn  ENTRIESn_hourly\n",
    "    0     A002  R051  02-00-00  05-01-11  00:00:00  REGULAR   3144312   1088151                1\n",
    "    1     A002  R051  02-00-00  05-01-11  04:00:00  REGULAR   3144335   1088159               23\n",
    "    2     A002  R051  02-00-00  05-01-11  08:00:00  REGULAR   3144353   1088177               18\n",
    "    3     A002  R051  02-00-00  05-01-11  12:00:00  REGULAR   3144424   1088231               71\n",
    "    4     A002  R051  02-00-00  05-01-11  16:00:00  REGULAR   3144594   1088275              170\n",
    "    5     A002  R051  02-00-00  05-01-11  20:00:00  REGULAR   3144808   1088317              214\n",
    "    6     A002  R051  02-00-00  05-02-11  00:00:00  REGULAR   3144895   1088328               87\n",
    "    7     A002  R051  02-00-00  05-02-11  04:00:00  REGULAR   3144905   1088331               10\n",
    "    8     A002  R051  02-00-00  05-02-11  08:00:00  REGULAR   3144941   1088420               36\n",
    "    9     A002  R051  02-00-00  05-02-11  12:00:00  REGULAR   3145094   1088753              153\n",
    "    10    A002  R051  02-00-00  05-02-11  16:00:00  REGULAR   3145337   1088823              243"
   ]
  },
  {
   "cell_type": "code",
   "execution_count": 7,
   "metadata": {},
   "outputs": [],
   "source": [
    "import pandas\n",
    "import math\n",
    "def get_hourly_entries(df):\n",
    "    df['ENTRIESn_hourly']=0   #creating a new column in dataFrame\n",
    "\n",
    "    df['ENTRIESn_hourly'] = df['ENTRIESn']-df['ENTRIESn'].shift(1) #subtracting df with df with a shift at the coloumn ENTRIESn and storing it in entriesn_hourly\n",
    "    df['ENTRIESn_hourly'].fillna(1, inplace=True)   #filling out empty spaces with 1\n",
    "    \n",
    "    #your code here\n",
    "    return df\n",
    "\n",
    "df=get_hourly_entries(df)"
   ]
  },
  {
   "cell_type": "markdown",
   "metadata": {},
   "source": [
    "### *Exercise 1.5*\n",
    "\n",
    "Do the same thing you did in the previous exercise, but taking into account the exits, column EXITSn.\n",
    "For this, you need to create a column called EXITSn_hourly and insert the difference between the column EXITSn in the current line vs he previous line. If there is any NaN, fill it out/replace by 0.\n",
    "\n"
   ]
  },
  {
   "cell_type": "code",
   "execution_count": 8,
   "metadata": {},
   "outputs": [],
   "source": [
    "import pandas\n",
    "\n",
    "def get_hourly_exits(df):\n",
    "    df['EXITSn_hourly']=0  #creating a new column in dataFrame\n",
    "    df['EXITSn_hourly'] = df['EXITSn']-df['EXITSn'].shift(1) #subtracting df with df with a shift at the coloumn ENTRIESn and storing it in entriesn_hourly\n",
    "    df['EXITSn_hourly'].fillna(0, inplace=True)   #filling out empty spaces with 1\n",
    "    \n",
    "    #your code here\n",
    "    return df\n",
    "df=get_hourly_exits(df)"
   ]
  },
  {
   "cell_type": "markdown",
   "metadata": {},
   "source": [
    "### *Exercise 1.6*\n",
    "\n",
    "Given an entry variable that represents time, in the format:\n",
    "     \"00:00:00\" (hour: minutes: seconds)\n",
    "    \n",
    "Write a function to extract the hour part from the time in the entry variable\n",
    "And return it as an integer. For example:\n",
    "         \n",
    "         1) if hour is 00, your code must return 0\n",
    "         2) if hour is 01, your code must return 1\n",
    "         3) if hour is 21, your code must return 21\n",
    "        \n",
    "Please return te hour as an integer.\n"
   ]
  },
  {
   "cell_type": "code",
   "execution_count": 9,
   "metadata": {},
   "outputs": [],
   "source": [
    "def time_to_hour(time):\n",
    "    time=time[0:2]  #selecting the first 2 letters of the string as they represent the hours\n",
    "    hour= pandas.to_numeric(time)\n",
    "    return hour\n",
    "\n",
    "df['hour']=df.TIMEn.apply(time_to_hour)"
   ]
  },
  {
   "cell_type": "markdown",
   "metadata": {},
   "source": [
    "## Exercise 2 - Data Analysis\n",
    "\n",
    "### *Exercise 2.1*\n",
    "\n",
    "To understand the relationship between the Subway activity and the weather, please complete the data from the file already downloaded with the weather data.\n",
    "We provided you with the file containing NYC weather data and made it available with the Support Material. You can access it through the link: https://s3.amazonaws.com/content.udacity-data.com/courses/ud359/turnstile_data_master_with_weather.csv\n",
    "\n",
    "Now that we have our data in a csv file, write Python code that reads this file and saves it into a Pandas Dataframe. \n",
    "\n",
    "Tip: \n",
    "\n",
    "Use the command below to read the file:\n",
    "\n",
    "```python\n",
    "pd.read_csv('output_list.txt', sep=\",\")\n",
    "```\n",
    "\n"
   ]
  },
  {
   "cell_type": "code",
   "execution_count": 12,
   "metadata": {
    "collapsed": true
   },
   "outputs": [],
   "source": [
    "import pandas as pd\n",
    "\n",
    "filename = \"turnstile_data_master_with_weather.csv\"\n",
    "weather_nyc=pd.read_csv(filename,sep=\",\")  #read_csv stores it directly as a dataFrame\n",
    "#your code here"
   ]
  },
  {
   "cell_type": "markdown",
   "metadata": {},
   "source": [
    "### *Exercise 2.2*\n",
    "\n",
    "Now, create a function that calculates the number of rainy days. For this, return the count of the number of days where the column *\"rain\"* is equal to 1.\n",
    "\n",
    "Tip: You might think that interpreting numbers as integers or floats might not\n",
    "     work at first. To handle this issue, it might be useful to convert\n",
    "     these numbers into integers. You can do this by writting cast (column as integer).\n",
    "     So, for example, if we want to launch the column maxtempi as an integer, we have to\n",
    "     write something like cast (maxtempi as integer) = 76, instead of just\n",
    "     where maxtempi = 76."
   ]
  },
  {
   "cell_type": "code",
   "execution_count": 13,
   "metadata": {},
   "outputs": [
    {
     "data": {
      "text/plain": [
       "44104"
      ]
     },
     "execution_count": 13,
     "metadata": {},
     "output_type": "execute_result"
    }
   ],
   "source": [
    "def num_rainy_days(df):\n",
    "    \n",
    "    rainy_days=int(df['rain'].sum())\n",
    "\n",
    "\n",
    "    #your code here\n",
    "    return rainy_days\n",
    "num_rainy_days(weather_nyc)"
   ]
  },
  {
   "cell_type": "markdown",
   "metadata": {},
   "source": [
    "### *Exercise 2.3*\n",
    "\n",
    "Calculate if the day was cloudy or not (0 or 1) and the maximum temperature for fog (i.e. the maximum temperature \n",
    "     for cloudy days)."
   ]
  },
  {
   "cell_type": "code",
   "execution_count": 14,
   "metadata": {},
   "outputs": [
    {
     "data": {
      "text/plain": [
       "81.0"
      ]
     },
     "execution_count": 14,
     "metadata": {},
     "output_type": "execute_result"
    }
   ],
   "source": [
    "\n",
    "def max_temp_aggregate_by_fog(df):\n",
    "\n",
    "        \n",
    "    #your code here \n",
    "    return max(df[df['fog'] == 1.0]['maxtempi']) #if fog is one then chose the value of 'maxtempi' and then find max of them all selected\n",
    "    \n",
    "max_temp_aggregate_by_fog(weather_nyc)"
   ]
  },
  {
   "cell_type": "markdown",
   "metadata": {},
   "source": [
    "### *Exercise 2.4\n",
    "\n",
    "Now, calculate the mean for 'meantempi' for the days that are Saturdays or Sundays (weekend):"
   ]
  },
  {
   "cell_type": "code",
   "execution_count": 15,
   "metadata": {},
   "outputs": [
    {
     "data": {
      "text/plain": [
       "65.100666854033065"
      ]
     },
     "execution_count": 15,
     "metadata": {},
     "output_type": "execute_result"
    }
   ],
   "source": [
    "from datetime import datetime\n",
    "def avg_weekend_temperature(filename):\n",
    "    \n",
    "    c=0\n",
    "    mean_temp_weekends=0.0\n",
    "    for i in range (0,filename.shape[0]-1):\n",
    "        date=weather_nyc['DATEn'][i]\n",
    "        \n",
    "        \n",
    "        timestamp = datetime.strptime(date, '%Y-%m-%d').weekday() \n",
    "        if(timestamp == 5 or timestamp==6):  #5 and 6 represent the weekend\n",
    "            mean_temp_weekends+=filename['meantempi'][i]   \n",
    "            c+=1\n",
    "        \n",
    "        \n",
    "    mean_temp_weekends=mean_temp_weekends/c\n",
    "    return mean_temp_weekends\n",
    "\n",
    "avg_weekend_temperature(weather_nyc)"
   ]
  },
  {
   "cell_type": "markdown",
   "metadata": {},
   "source": [
    "### *Exercise 2.5\n",
    "\n",
    "Calculate the mean of the minimum temperature 'mintempi' for the days when the minimum temperature was greater that 55 degrees:"
   ]
  },
  {
   "cell_type": "code",
   "execution_count": 16,
   "metadata": {},
   "outputs": [
    {
     "data": {
      "text/plain": [
       "63.269901298701299"
      ]
     },
     "execution_count": 16,
     "metadata": {},
     "output_type": "execute_result"
    }
   ],
   "source": [
    "def avg_min_temperature(filename):\n",
    "    \n",
    "    c=0\n",
    "    avg_min_temp_rainy=0.0\n",
    "    for i in range (0,filename.shape[0]):\n",
    "        date=weather_nyc['DATEn'][i]\n",
    "        \n",
    "        if(filename['mintempi'][i]>55.0):  #add only if greater than 55\n",
    "            avg_min_temp_rainy+=filename['mintempi'][i]   \n",
    "            c+=1\n",
    "        \n",
    "    avg_min_temp_rainy=avg_min_temp_rainy/c\n",
    "    \n",
    "    return avg_min_temp_rainy\n",
    "avg_min_temperature(weather_nyc)"
   ]
  },
  {
   "cell_type": "markdown",
   "metadata": {},
   "source": [
    "### *Exercise 2.6\n",
    "\n",
    "Before you make any analysis, it might be useful to look at the data we want to analyse. More specifically, we will evaluate the entries by hour in our data from the NYC Subway to determine the data distribution. This data is stored in the column ['ENTRIESn_hourly'].\n",
    "    \n",
    "Draw two histogramns in the same axis, to show the entries when it's raining vs when it's not. \n",
    "Below, you will find an example of how to draw histogramns with Pandas and Matplotlib:\n",
    "     \n",
    "```python\n",
    "Turnstile_weather ['column_to_graph']. Hist ()\n",
    "```   \n",
    "    "
   ]
  },
  {
   "cell_type": "code",
   "execution_count": 19,
   "metadata": {},
   "outputs": [
    {
     "data": {
      "image/png": "[encoded data removed]",
      "text/plain": [
       "<matplotlib.figure.Figure at 0x16eceb9e470>"
      ]
     },
     "metadata": {},
     "output_type": "display_data"
    }
   ],
   "source": [
    "import numpy as np\n",
    "import pandas\n",
    "import matplotlib.pyplot as plt\n",
    "\n",
    "def entries_histogram(df):\n",
    "    \n",
    "    \n",
    "    \n",
    "    plt.figure()\n",
    "    plt.title(\"NYC subway analysis\")\n",
    "    plt.hist(df[df['rain'] == 1.0]['ENTRIESn_hourly'],bins = 10,color = 'b',label='RAINING')\n",
    "    plt.xlabel(\"Entries per hour\")\n",
    "    plt.ylabel('Frequency')\n",
    "    plt.hist(df[df['rain'] == 0.0]['ENTRIESn_hourly'],bins = 10,alpha=0.2,color = 'r',label='NOT RAINING')#aplha to give transparency. so that both graphs are visible\n",
    "    plt.legend()\n",
    "    plt.show()\n",
    "entries_histogram(weather_nyc)"
   ]
  },
  {
   "cell_type": "markdown",
   "metadata": {},
   "source": [
    "### *Exercise 2.7\n",
    "\n",
    "The data you just plotted is in what kind of distribution? Is there a difference in distribution between rainy and non-rainy days?"
   ]
  },
  {
   "cell_type": "markdown",
   "metadata": {},
   "source": [
    "** Answer **: The distribution shows that more people travel using subway when it is not raining. It is a positively skewed distribution. Rainy and non-rainy days have same type of distribution"
   ]
  },
  {
   "cell_type": "markdown",
   "metadata": {},
   "source": [
    "### *Exercise 2.8\n",
    "\n",
    "Build a function that returns:\n",
    "\n",
    "1. The mean of entries when it's raining\n",
    "2. The mean of entries when it's not raining\n",
    "\n",
    "\n"
   ]
  },
  {
   "cell_type": "code",
   "execution_count": 25,
   "metadata": {},
   "outputs": [
    {
     "data": {
      "text/plain": [
       "(1105.4463767458733, 1090.278780151855)"
      ]
     },
     "execution_count": 25,
     "metadata": {},
     "output_type": "execute_result"
    }
   ],
   "source": [
    "import numpy as np\n",
    "\n",
    "import pandas\n",
    "\n",
    "def means(turnstile_weather):\n",
    "    c=0    #number of rainy days\n",
    "    d=0    #number of days when it did not rain\n",
    "    without_rain_mean=0.0\n",
    "    with_rain_mean=0.0\n",
    "    for i in range(0,turnstile_weather.shape[0]):\n",
    "        if(turnstile_weather['rain'][i]==1.0):\n",
    "            with_rain_mean+=turnstile_weather['ENTRIESn_hourly'][i]\n",
    "            c+=1\n",
    "        else:\n",
    "            without_rain_mean+=turnstile_weather['ENTRIESn_hourly'][i]\n",
    "            d+=1\n",
    "    without_rain_mean=without_rain_mean/d\n",
    "    with_rain_mean=with_rain_mean/c\n",
    "                \n",
    "    ### YOUR CODE HERE ###\n",
    "    \n",
    "    return with_rain_mean, without_rain_mean # leave this line for the grader\n",
    "means(weather_nyc)"
   ]
  },
  {
   "cell_type": "markdown",
   "metadata": {},
   "source": [
    "Answer to the following questions according to your functions' exits:\n",
    "\n",
    "1. What is the mean of entries when it's raining?\n",
    "2. What is the mean of entries when it's not raining?\n"
   ]
  },
  {
   "cell_type": "markdown",
   "metadata": {},
   "source": [
    "** Answer **: Mean of entries when it is raining is 1105.446 and mean of entries when it is not raining is 1090.278801"
   ]
  },
  {
   "cell_type": "markdown",
   "metadata": {},
   "source": [
    "## Exercise 3 - Map Reduce\n",
    "\n",
    "### *Exercise 3.1*\n",
    "\n",
    "The entry for this exercise is the same file from the previous session (Exercise 2). You can download the file from this link:\n",
    "\n",
    " https://s3.amazonaws.com/content.udacity-data.com/courses/ud359/turnstile_data_master_with_weather.csv\n",
    "\n",
    "Now, we will create a mapper. For each entry line, the mapper exit must PRINT (not return) UNIT as a key, and the number of ENTRIESn_hourly as the value. Separate the key and the value with a tab. For example: 'R002 \\ t105105.0'\n",
    "\n",
    "Export your mapper into a file named mapper_result.txt and send it with your submission. The code for exporting your mapper is already written in the code bellow.\n",
    "\n",
    "\n"
   ]
  },
  {
   "cell_type": "code",
   "execution_count": null,
   "metadata": {
    "collapsed": true
   },
   "outputs": [],
   "source": [
    "import sys\n",
    "sys.stdin = open('turnstile_data_master_with_weather.csv')\n",
    "sys.stdout = open('mapper_result.txt', 'w')\n",
    "def mapper():\n",
    "    \n",
    "\n",
    "    for line in sys.stdin:\n",
    "        data=line.strip().split(\",\")\n",
    "        if(len(data)==22):   #to check for bad data\n",
    "            \n",
    "            null, UNIT, DATEn, TIMEn, Hour, DESCn,ENTRIESn_hourly,EXITSn_hourly,maxpressurei,maxdewpti,mindewpti,minpressurei,meandewpti,meanpressurei,fog,rain,meanwindspdi,mintempi,meantempi,maxtempi,precipi,thunder = data\n",
    "            \n",
    "            print(\"{0}\\t{1}\".format(UNIT,ENTRIESn_hourly))\n",
    "\n",
    "\n",
    "        \n",
    "\n",
    "\n",
    "mapper()\n"
   ]
  },
  {
   "cell_type": "markdown",
   "metadata": {},
   "source": [
    "### *Exercise 3.2*\n",
    "\n",
    "Now, create the reducer. Given the mapper result from the previous exercise, the reducer must print (not return) one line per UNIT, with the total number of ENTRIESn_hourly during May (which is our data duration), separated by a tab. An example of exit line from the reducer may look like this: 'R001 \\ t500625.0'\n",
    "\n",
    "You can assume that the entry for the reducer is ordered in a way that all lines corresponding to a particular unit are grouped. However, the reducer exit will have repetition, as there are stores that appear in different files' locations.\n",
    "\n",
    "Export your reducer into a file named reducer_result.txt and send it with your submission."
   ]
  },
  {
   "cell_type": "code",
   "execution_count": null,
   "metadata": {
    "collapsed": true
   },
   "outputs": [],
   "source": [
    "sys.stdin = open('mapper_result.txt')\n",
    "sys.stdout = open('reducer_result.txt', 'w')\n",
    "\n",
    "def reducer():\n",
    "    oldKey=None\n",
    "    Total_entries=0.0      \n",
    "    c=0    #To skip the first line that has UNIT and ENTRIESn_hourly written in the mapper file\n",
    "    for line in sys.stdin:\n",
    "        # your code here\n",
    "        if(c==0):\n",
    "            c+=1\n",
    "            continue\n",
    "        data=line.strip().split(\"\\t\")\n",
    "        if(len(data)==2):     #to check for bad data\n",
    "            UNIT, ENTRIESn_hourly=data\n",
    "            if (oldKey and oldKey!=UNIT):\n",
    "                print(oldKey,\"\\t\",Total_entries)\n",
    "                Total_entries=0.0\n",
    "            oldKey=UNIT\n",
    "            Total_entries+=float(ENTRIESn_hourly)\n",
    "    \n",
    "                    \n",
    "reducer()\n"
   ]
  },
  {
   "cell_type": "code",
   "execution_count": null,
   "metadata": {
    "collapsed": true
   },
   "outputs": [],
   "source": []
  }
 ],
 "metadata": {
  "celltoolbar": "Edit Metadata",
  "kernelspec": {
   "display_name": "Python [default]",
   "language": "python",
   "name": "python3"
  },
  "language_info": {
   "codemirror_mode": {
    "name": "ipython",
    "version": 3
   },
   "file_extension": ".py",
   "mimetype": "text/x-python",
   "name": "python",
   "nbconvert_exporter": "python",
   "pygments_lexer": "ipython3",
   "version": "3.5.3"
  }
 },
 "nbformat": 4,
 "nbformat_minor": 2
}
